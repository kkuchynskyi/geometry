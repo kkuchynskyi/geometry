{
 "cells": [
  {
   "cell_type": "code",
   "execution_count": 1,
   "metadata": {},
   "outputs": [],
   "source": [
    "import random\n",
    "import math\n",
    "import time\n",
    "import json\n",
    "import os\n",
    "from numba import jit\n",
    "\n",
    "import numpy as np\n",
    "from tqdm import tqdm\n",
    "from PIL import Image"
   ]
  },
  {
   "cell_type": "code",
   "execution_count": 2,
   "metadata": {},
   "outputs": [
    {
     "name": "stdout",
     "output_type": "stream",
     "text": [
      "(380, 434) (380, 434)\n"
     ]
    }
   ],
   "source": [
    "img1 = np.array(Image.open(\"./1_.png\"), dtype=np.float32)[:, :, 0]\n",
    "img2 = np.array(Image.open(\"./2_.png\"), dtype=np.float32)[:, :, 0]\n",
    "print(img1.shape, img2.shape)\n",
    "m, n = img1.shape\n",
    "dx_min, dx_max = -5, 5\n",
    "dy_min, dy_max = -5, 5"
   ]
  },
  {
   "cell_type": "code",
   "execution_count": 3,
   "metadata": {},
   "outputs": [],
   "source": [
    "@jit(nopython=True)\n",
    "def q(i, j, dx, dy):\n",
    "    if 0 <= i + dy < img1.shape[0] and 0 <= j + dx < img1.shape[1]:\n",
    "        return (img1[i, j] - img2[i + dy, j + dx])**2\n",
    "    else:\n",
    "        return -np.inf\n",
    "\n",
    "\n",
    "@jit(nopython=True)\n",
    "def g(dx, dy, dx_, dy_):\n",
    "    return (dx - dx_)**2 + (dy - dy_)**2 \n",
    "\n",
    "\n",
    "@jit(nopython=True)\n",
    "def update_left(i, j, k_x, k_y, direction):\n",
    "    values = np.zeros((dx_max - dx_min, dy_max - dy_min), dtype=np.float32)\n",
    "    for k_x_ in range(dx_min, dx_max, 1):\n",
    "        for k_y_ in range(dy_min, dy_max, 1):\n",
    "            values[k_x_, k_y_] = direction[i, j-1, k_x, k_y] + q(i, j-1, k_x_, k_y_) + g(k_x_, k_y_, k_x, k_y)\n",
    "    return values.max()\n",
    "\n",
    "@jit(nopython=True)\n",
    "def update_upper(i, j, k_x, k_y, direction):\n",
    "    values = np.zeros((dx_max - dx_min, dy_max - dy_min), dtype=np.float32)\n",
    "    for k_x_ in range(dx_min, dx_max, 1):\n",
    "        for k_y_ in range(dy_min, dy_max, 1):\n",
    "            values[k_x_, k_y_] = direction[i-1, j, k_x, k_y] + q(i-1, j, k_x_, k_y_) + g(k_x_, k_y_, k_x, k_y)\n",
    "    return values.max()\n",
    "\n",
    "#####\n",
    "@jit(nopython=True)\n",
    "def update_right(i, j, k_x, k_y, direction):\n",
    "    values = np.zeros((dx_max - dx_min, dy_max - dy_min), dtype=np.float32)\n",
    "    for k_x_ in range(dx_min, dx_max, 1):\n",
    "        for k_y_ in range(dy_min, dy_max, 1):\n",
    "            values[k_x_, k_y_] = direction[i, j+1, k_x, k_y] + q(i, j+1, k_x_, k_y_) + g(k_x_, k_y_, k_x, k_y)\n",
    "    return values.max()\n",
    "\n",
    "\n",
    "@jit(nopython=True)\n",
    "def update_down(i, j, k_x, k_y, direction):\n",
    "    values = np.zeros((dx_max - dx_min, dy_max - dy_min), dtype=np.float32)\n",
    "    for k_x_ in range(dx_min, dx_max, 1):\n",
    "        for k_y_ in range(dy_min, dy_max, 1):\n",
    "            values[k_x_, k_y_] = direction[i+1, j, k_x, k_y] + q(i+1, j, k_x_, k_y_) + g(k_x_, k_y_, k_x, k_y)\n",
    "    return values.max()"
   ]
  },
  {
   "cell_type": "code",
   "execution_count": 4,
   "metadata": {},
   "outputs": [],
   "source": [
    "L = np.zeros((m, n, dx_max - dx_min, dy_max - dy_min), dtype=np.float64)\n",
    "U = np.zeros((m, n, dx_max - dx_min, dy_max - dy_min), dtype=np.float64)\n",
    "D = np.zeros((m, n, dx_max - dx_min, dy_max - dy_min), dtype=np.float64)\n",
    "R = np.zeros((m, n, dx_max - dx_min, dy_max - dy_min), dtype=np.float64)"
   ]
  },
  {
   "cell_type": "code",
   "execution_count": 5,
   "metadata": {},
   "outputs": [],
   "source": [
    "for i in range(m - 2, -1, -1):\n",
    "    for j in range(n - 2, -1, -1):\n",
    "        for dx in range(dx_min, dx_max, 1):\n",
    "            for dy in range(dy_min, dy_max, 1):\n",
    "                R[i, j, dx, dy] = update_right(i, j, dx, dy, R)\n",
    "                D[i, j, dx, dy] = update_down(i, j, dx, dy, D)"
   ]
  },
  {
   "cell_type": "code",
   "execution_count": 7,
   "metadata": {},
   "outputs": [],
   "source": [
    "for i in range(1, m):\n",
    "    for j in range(1, n):\n",
    "        for dx in range(dx_min, dx_max, 1):\n",
    "            for dy in range(dy_min, dy_max, 1):\n",
    "                L[i, j, dx, dy] = update_left(i, j, dx, dy, L)\n",
    "                U[i, j, dx, dy] = update_upper(i, j, dx, dy, U)"
   ]
  },
  {
   "cell_type": "code",
   "execution_count": 36,
   "metadata": {},
   "outputs": [],
   "source": [
    "@jit(nopython=True)\n",
    "def f():\n",
    "    new_img = np.zeros((m, n), dtype=np.float32)\n",
    "    for i in range(1, m):\n",
    "        for j in range(1, n):\n",
    "            max_value = -np.inf\n",
    "            index = None\n",
    "            for dx in range(dx_min, dx_max, 1):\n",
    "                for dy in range(dy_min, dy_max, 1):\n",
    "                    value = L[i, j, dx, dy] + R[i, j, dx, dy] + q(i, j, dx, dy) + U[i, j, dx, dy] + D[i, j, dx, dy]\n",
    "                    if value > max_value:\n",
    "                        max_value = value\n",
    "                        index_x = dx\n",
    "                        new_img[i, j] = index_x\n",
    "    return new_img"
   ]
  },
  {
   "cell_type": "code",
   "execution_count": 38,
   "metadata": {},
   "outputs": [
    {
     "data": {
      "image/png": "[encoded data removed]",
      "text/plain": [
       "<PIL.Image.Image image mode=L size=434x380 at 0x1F8F0CC4E08>"
      ]
     },
     "execution_count": 38,
     "metadata": {},
     "output_type": "execute_result"
    }
   ],
   "source": [
    "new_img = f()\n",
    "new_img += new_img.min() \n",
    "new_img *= 1/new_img.max()\n",
    "Image.fromarray((new_img*255).astype(np.uint8))"
   ]
  },
  {
   "cell_type": "code",
   "execution_count": 13,
   "metadata": {},
   "outputs": [
    {
     "data": {
      "text/plain": [
       "1.0"
      ]
     },
     "execution_count": 13,
     "metadata": {},
     "output_type": "execute_result"
    }
   ],
   "source": [
    "new_img.max()"
   ]
  },
  {
   "cell_type": "code",
   "execution_count": null,
   "metadata": {},
   "outputs": [],
   "source": []
  }
 ],
 "metadata": {
  "kernelspec": {
   "display_name": "Python 3",
   "language": "python",
   "name": "python3"
  },
  "language_info": {
   "codemirror_mode": {
    "name": "ipython",
    "version": 3
   },
   "file_extension": ".py",
   "mimetype": "text/x-python",
   "name": "python",
   "nbconvert_exporter": "python",
   "pygments_lexer": "ipython3",
   "version": "3.7.4"
  }
 },
 "nbformat": 4,
 "nbformat_minor": 2
}
